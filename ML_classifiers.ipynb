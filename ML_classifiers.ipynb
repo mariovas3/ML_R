{
 "cells": [
  {
   "cell_type": "markdown",
   "metadata": {},
   "source": [
    "## ML models performance\n",
    "In this notebook I compare the pairs of models (Logit, LDA) and (CART, RandomForest Classifier)."
   ]
  },
  {
   "cell_type": "markdown",
   "metadata": {},
   "source": [
    "First load the required packages:"
   ]
  },
  {
   "cell_type": "code",
   "execution_count": 41,
   "metadata": {},
   "outputs": [],
   "source": [
    "library(dplyr)\n",
    "library(ggplot2)\n",
    "library(ISLR)\n",
    "library(caret)\n",
    "library(broom)\n",
    "library(tidyr)\n",
    "library(caTools)\n",
    "library(MASS)\n",
    "library(tree)\n",
    "library(randomForest)\n",
    "library(gbm)\n",
    "library(rpart)\n",
    "library(rpart.plot)\n",
    "library(boot)\n",
    "library(ranger)\n",
    "library(e1071)\n",
    "library(lmtest)\n",
    "\n",
    "##some functions might be masked because of overlap from the different packages in which case they\n",
    "##would be accessible via the package::function notation, i.e. using scope resolution."
   ]
  },
  {
   "cell_type": "markdown",
   "metadata": {},
   "source": [
    "### Logistic Regression versus LDA\n",
    "Initial exploration of the Smarket dataset: "
   ]
  },
  {
   "cell_type": "code",
   "execution_count": 42,
   "metadata": {},
   "outputs": [
    {
     "name": "stdout",
     "output_type": "stream",
     "text": [
      "dimensions of the dataset: \n",
      " 1250 9 \n",
      "\n",
      "Structure of the data: \n",
      "\n",
      "'data.frame':\t1250 obs. of  9 variables:\n",
      " $ Year     : num  2001 2001 2001 2001 2001 ...\n",
      " $ Lag1     : num  0.381 0.959 1.032 -0.623 0.614 ...\n",
      " $ Lag2     : num  -0.192 0.381 0.959 1.032 -0.623 ...\n",
      " $ Lag3     : num  -2.624 -0.192 0.381 0.959 1.032 ...\n",
      " $ Lag4     : num  -1.055 -2.624 -0.192 0.381 0.959 ...\n",
      " $ Lag5     : num  5.01 -1.055 -2.624 -0.192 0.381 ...\n",
      " $ Volume   : num  1.19 1.3 1.41 1.28 1.21 ...\n",
      " $ Today    : num  0.959 1.032 -0.623 0.614 0.213 ...\n",
      " $ Direction: Factor w/ 2 levels \"Down\",\"Up\": 2 2 1 2 2 2 1 2 2 2 ...\n",
      "\n",
      "Summary of the dataset: \n",
      "\n"
     ]
    },
    {
     "data": {
      "text/plain": [
       "      Year           Lag1                Lag2                Lag3          \n",
       " Min.   :2001   Min.   :-4.922000   Min.   :-4.922000   Min.   :-4.922000  \n",
       " 1st Qu.:2002   1st Qu.:-0.639500   1st Qu.:-0.639500   1st Qu.:-0.640000  \n",
       " Median :2003   Median : 0.039000   Median : 0.039000   Median : 0.038500  \n",
       " Mean   :2003   Mean   : 0.003834   Mean   : 0.003919   Mean   : 0.001716  \n",
       " 3rd Qu.:2004   3rd Qu.: 0.596750   3rd Qu.: 0.596750   3rd Qu.: 0.596750  \n",
       " Max.   :2005   Max.   : 5.733000   Max.   : 5.733000   Max.   : 5.733000  \n",
       "      Lag4                Lag5              Volume           Today          \n",
       " Min.   :-4.922000   Min.   :-4.92200   Min.   :0.3561   Min.   :-4.922000  \n",
       " 1st Qu.:-0.640000   1st Qu.:-0.64000   1st Qu.:1.2574   1st Qu.:-0.639500  \n",
       " Median : 0.038500   Median : 0.03850   Median :1.4229   Median : 0.038500  \n",
       " Mean   : 0.001636   Mean   : 0.00561   Mean   :1.4783   Mean   : 0.003138  \n",
       " 3rd Qu.: 0.596750   3rd Qu.: 0.59700   3rd Qu.:1.6417   3rd Qu.: 0.596750  \n",
       " Max.   : 5.733000   Max.   : 5.73300   Max.   :3.1525   Max.   : 5.733000  \n",
       " Direction \n",
       " Down:602  \n",
       " Up  :648  \n",
       "           \n",
       "           \n",
       "           \n",
       "           "
      ]
     },
     "metadata": {},
     "output_type": "display_data"
    },
    {
     "name": "stdout",
     "output_type": "stream",
     "text": [
      "\n",
      "Pearson's correlation coefficient for the numerical variables: \n"
     ]
    },
    {
     "data": {
      "text/html": [
       "<table>\n",
       "<thead><tr><th></th><th scope=col>Lag1</th><th scope=col>Lag2</th><th scope=col>Lag3</th><th scope=col>Lag4</th><th scope=col>Lag5</th><th scope=col>Volume</th><th scope=col>Today</th></tr></thead>\n",
       "<tbody>\n",
       "\t<tr><th scope=row>Lag1</th><td> 1.000000000</td><td>-0.026294328</td><td>-0.010803402</td><td>-0.002985911</td><td>-0.005674606</td><td> 0.04090991 </td><td>-0.026155045</td></tr>\n",
       "\t<tr><th scope=row>Lag2</th><td>-0.026294328</td><td> 1.000000000</td><td>-0.025896670</td><td>-0.010853533</td><td>-0.003557949</td><td>-0.04338321 </td><td>-0.010250033</td></tr>\n",
       "\t<tr><th scope=row>Lag3</th><td>-0.010803402</td><td>-0.025896670</td><td> 1.000000000</td><td>-0.024051036</td><td>-0.018808338</td><td>-0.04182369 </td><td>-0.002447647</td></tr>\n",
       "\t<tr><th scope=row>Lag4</th><td>-0.002985911</td><td>-0.010853533</td><td>-0.024051036</td><td> 1.000000000</td><td>-0.027083641</td><td>-0.04841425 </td><td>-0.006899527</td></tr>\n",
       "\t<tr><th scope=row>Lag5</th><td>-0.005674606</td><td>-0.003557949</td><td>-0.018808338</td><td>-0.027083641</td><td> 1.000000000</td><td>-0.02200231 </td><td>-0.034860083</td></tr>\n",
       "\t<tr><th scope=row>Volume</th><td> 0.040909908</td><td>-0.043383215</td><td>-0.041823686</td><td>-0.048414246</td><td>-0.022002315</td><td> 1.00000000 </td><td> 0.014591823</td></tr>\n",
       "\t<tr><th scope=row>Today</th><td>-0.026155045</td><td>-0.010250033</td><td>-0.002447647</td><td>-0.006899527</td><td>-0.034860083</td><td> 0.01459182 </td><td> 1.000000000</td></tr>\n",
       "</tbody>\n",
       "</table>\n"
      ],
      "text/latex": [
       "\\begin{tabular}{r|lllllll}\n",
       "  & Lag1 & Lag2 & Lag3 & Lag4 & Lag5 & Volume & Today\\\\\n",
       "\\hline\n",
       "\tLag1 &  1.000000000 & -0.026294328 & -0.010803402 & -0.002985911 & -0.005674606 &  0.04090991  & -0.026155045\\\\\n",
       "\tLag2 & -0.026294328 &  1.000000000 & -0.025896670 & -0.010853533 & -0.003557949 & -0.04338321  & -0.010250033\\\\\n",
       "\tLag3 & -0.010803402 & -0.025896670 &  1.000000000 & -0.024051036 & -0.018808338 & -0.04182369  & -0.002447647\\\\\n",
       "\tLag4 & -0.002985911 & -0.010853533 & -0.024051036 &  1.000000000 & -0.027083641 & -0.04841425  & -0.006899527\\\\\n",
       "\tLag5 & -0.005674606 & -0.003557949 & -0.018808338 & -0.027083641 &  1.000000000 & -0.02200231  & -0.034860083\\\\\n",
       "\tVolume &  0.040909908 & -0.043383215 & -0.041823686 & -0.048414246 & -0.022002315 &  1.00000000  &  0.014591823\\\\\n",
       "\tToday & -0.026155045 & -0.010250033 & -0.002447647 & -0.006899527 & -0.034860083 &  0.01459182  &  1.000000000\\\\\n",
       "\\end{tabular}\n"
      ],
      "text/markdown": [
       "\n",
       "| <!--/--> | Lag1 | Lag2 | Lag3 | Lag4 | Lag5 | Volume | Today |\n",
       "|---|---|---|---|---|---|---|---|\n",
       "| Lag1 |  1.000000000 | -0.026294328 | -0.010803402 | -0.002985911 | -0.005674606 |  0.04090991  | -0.026155045 |\n",
       "| Lag2 | -0.026294328 |  1.000000000 | -0.025896670 | -0.010853533 | -0.003557949 | -0.04338321  | -0.010250033 |\n",
       "| Lag3 | -0.010803402 | -0.025896670 |  1.000000000 | -0.024051036 | -0.018808338 | -0.04182369  | -0.002447647 |\n",
       "| Lag4 | -0.002985911 | -0.010853533 | -0.024051036 |  1.000000000 | -0.027083641 | -0.04841425  | -0.006899527 |\n",
       "| Lag5 | -0.005674606 | -0.003557949 | -0.018808338 | -0.027083641 |  1.000000000 | -0.02200231  | -0.034860083 |\n",
       "| Volume |  0.040909908 | -0.043383215 | -0.041823686 | -0.048414246 | -0.022002315 |  1.00000000  |  0.014591823 |\n",
       "| Today | -0.026155045 | -0.010250033 | -0.002447647 | -0.006899527 | -0.034860083 |  0.01459182  |  1.000000000 |\n",
       "\n"
      ],
      "text/plain": [
       "       Lag1         Lag2         Lag3         Lag4         Lag5        \n",
       "Lag1    1.000000000 -0.026294328 -0.010803402 -0.002985911 -0.005674606\n",
       "Lag2   -0.026294328  1.000000000 -0.025896670 -0.010853533 -0.003557949\n",
       "Lag3   -0.010803402 -0.025896670  1.000000000 -0.024051036 -0.018808338\n",
       "Lag4   -0.002985911 -0.010853533 -0.024051036  1.000000000 -0.027083641\n",
       "Lag5   -0.005674606 -0.003557949 -0.018808338 -0.027083641  1.000000000\n",
       "Volume  0.040909908 -0.043383215 -0.041823686 -0.048414246 -0.022002315\n",
       "Today  -0.026155045 -0.010250033 -0.002447647 -0.006899527 -0.034860083\n",
       "       Volume      Today       \n",
       "Lag1    0.04090991 -0.026155045\n",
       "Lag2   -0.04338321 -0.010250033\n",
       "Lag3   -0.04182369 -0.002447647\n",
       "Lag4   -0.04841425 -0.006899527\n",
       "Lag5   -0.02200231 -0.034860083\n",
       "Volume  1.00000000  0.014591823\n",
       "Today   0.01459182  1.000000000"
      ]
     },
     "metadata": {},
     "output_type": "display_data"
    },
    {
     "name": "stdout",
     "output_type": "stream",
     "text": [
      "\n",
      "Check for missing values in the dataset: \n"
     ]
    },
    {
     "name": "stderr",
     "output_type": "stream",
     "text": [
      "Warning message:\n",
      "\"attributes are not identical across measure variables;\n",
      "they will be dropped\""
     ]
    },
    {
     "data": {
      "text/html": [
       "<table>\n",
       "<thead><tr><th scope=col>measure</th><th scope=col>sum(is.na(value))</th></tr></thead>\n",
       "<tbody>\n",
       "\t<tr><td>Direction</td><td>0        </td></tr>\n",
       "\t<tr><td>Lag1     </td><td>0        </td></tr>\n",
       "\t<tr><td>Lag2     </td><td>0        </td></tr>\n",
       "\t<tr><td>Lag3     </td><td>0        </td></tr>\n",
       "\t<tr><td>Lag4     </td><td>0        </td></tr>\n",
       "\t<tr><td>Lag5     </td><td>0        </td></tr>\n",
       "\t<tr><td>Today    </td><td>0        </td></tr>\n",
       "\t<tr><td>Volume   </td><td>0        </td></tr>\n",
       "\t<tr><td>Year     </td><td>0        </td></tr>\n",
       "</tbody>\n",
       "</table>\n"
      ],
      "text/latex": [
       "\\begin{tabular}{r|ll}\n",
       " measure & sum(is.na(value))\\\\\n",
       "\\hline\n",
       "\t Direction & 0        \\\\\n",
       "\t Lag1      & 0        \\\\\n",
       "\t Lag2      & 0        \\\\\n",
       "\t Lag3      & 0        \\\\\n",
       "\t Lag4      & 0        \\\\\n",
       "\t Lag5      & 0        \\\\\n",
       "\t Today     & 0        \\\\\n",
       "\t Volume    & 0        \\\\\n",
       "\t Year      & 0        \\\\\n",
       "\\end{tabular}\n"
      ],
      "text/markdown": [
       "\n",
       "| measure | sum(is.na(value)) |\n",
       "|---|---|\n",
       "| Direction | 0         |\n",
       "| Lag1      | 0         |\n",
       "| Lag2      | 0         |\n",
       "| Lag3      | 0         |\n",
       "| Lag4      | 0         |\n",
       "| Lag5      | 0         |\n",
       "| Today     | 0         |\n",
       "| Volume    | 0         |\n",
       "| Year      | 0         |\n",
       "\n"
      ],
      "text/plain": [
       "  measure   sum(is.na(value))\n",
       "1 Direction 0                \n",
       "2 Lag1      0                \n",
       "3 Lag2      0                \n",
       "4 Lag3      0                \n",
       "5 Lag4      0                \n",
       "6 Lag5      0                \n",
       "7 Today     0                \n",
       "8 Volume    0                \n",
       "9 Year      0                "
      ]
     },
     "metadata": {},
     "output_type": "display_data"
    }
   ],
   "source": [
    "#?Smarket\n",
    "cat(\"dimensions of the dataset:\",\"\\n\",dim(Smarket),\"\\n\")\n",
    "cat(\"\\n\")\n",
    "cat(\"Structure of the data:\",\"\\n\")\n",
    "cat(\"\\n\")\n",
    "str(Smarket)\n",
    "cat(\"\\n\")\n",
    "cat(\"Summary of the dataset:\",\"\\n\")\n",
    "cat(\"\\n\")\n",
    "summary(Smarket)\n",
    "cat(\"\\n\")\n",
    "cat(\"Pearson's correlation coefficient for the numerical variables:\",\"\\n\")\n",
    "cor(Smarket[,-c(1,9)])\n",
    "cat(\"\\n\")\n",
    "cat(\"Check for missing values in the dataset:\",\"\\n\")\n",
    "gather(Smarket,key = \"measure\",value = \"value\")%>%\n",
    "  group_by(measure)%>%\n",
    "  summarise(sum(is.na(value)))\n"
   ]
  },
  {
   "cell_type": "markdown",
   "metadata": {},
   "source": [
    "Pairs plot of Smarket:\n",
    "\n",
    "Checking the types of relationships between any two variables."
   ]
  },
  {
   "cell_type": "code",
   "execution_count": 43,
   "metadata": {},
   "outputs": [
    {
     "data": {
      "image/png": "[encoded data removed]",
      "text/plain": [
       "plot without title"
      ]
     },
     "metadata": {},
     "output_type": "display_data"
    }
   ],
   "source": [
    "pairs(Smarket)"
   ]
  },
  {
   "cell_type": "markdown",
   "metadata": {},
   "source": [
    "### Logistic Regression"
   ]
  },
  {
   "cell_type": "markdown",
   "metadata": {},
   "source": [
    "Splitting the data and fitting a logistic regression model, train set before Year 2005, test set at Year==2005."
   ]
  },
  {
   "cell_type": "code",
   "execution_count": 44,
   "metadata": {},
   "outputs": [],
   "source": [
    "train.data<-Smarket%>%filter(Year<2005)%>%dplyr::select(-c(\"Year\",\"Today\"))\n",
    "test.data<-Smarket%>%filter(Year==2005)%>%dplyr::select(-c(\"Year\",\"Today\"))\n",
    "model<-glm(Direction~.,family = binomial(link=\"logit\"),data=train.data)"
   ]
  },
  {
   "cell_type": "markdown",
   "metadata": {},
   "source": [
    "Summary of the model, predicting probabilities on the test set:"
   ]
  },
  {
   "cell_type": "code",
   "execution_count": 45,
   "metadata": {
    "scrolled": false
   },
   "outputs": [
    {
     "name": "stdout",
     "output_type": "stream",
     "text": [
      "summary of the model: \n"
     ]
    },
    {
     "data": {
      "text/plain": [
       "\n",
       "Call:\n",
       "glm(formula = Direction ~ ., family = binomial(link = \"logit\"), \n",
       "    data = train.data)\n",
       "\n",
       "Deviance Residuals: \n",
       "   Min      1Q  Median      3Q     Max  \n",
       "-1.302  -1.190   1.079   1.160   1.350  \n",
       "\n",
       "Coefficients:\n",
       "             Estimate Std. Error z value Pr(>|z|)\n",
       "(Intercept)  0.191213   0.333690   0.573    0.567\n",
       "Lag1        -0.054178   0.051785  -1.046    0.295\n",
       "Lag2        -0.045805   0.051797  -0.884    0.377\n",
       "Lag3         0.007200   0.051644   0.139    0.889\n",
       "Lag4         0.006441   0.051706   0.125    0.901\n",
       "Lag5        -0.004223   0.051138  -0.083    0.934\n",
       "Volume      -0.116257   0.239618  -0.485    0.628\n",
       "\n",
       "(Dispersion parameter for binomial family taken to be 1)\n",
       "\n",
       "    Null deviance: 1383.3  on 997  degrees of freedom\n",
       "Residual deviance: 1381.1  on 991  degrees of freedom\n",
       "AIC: 1395.1\n",
       "\n",
       "Number of Fisher Scoring iterations: 3\n"
      ]
     },
     "metadata": {},
     "output_type": "display_data"
    },
    {
     "name": "stdout",
     "output_type": "stream",
     "text": [
      "\n",
      "'data.frame':\t998 obs. of  7 variables:\n",
      " $ Lag1     : num  0.381 0.959 1.032 -0.623 0.614 ...\n",
      " $ Lag2     : num  -0.192 0.381 0.959 1.032 -0.623 ...\n",
      " $ Lag3     : num  -2.624 -0.192 0.381 0.959 1.032 ...\n",
      " $ Lag4     : num  -1.055 -2.624 -0.192 0.381 0.959 ...\n",
      " $ Lag5     : num  5.01 -1.055 -2.624 -0.192 0.381 ...\n",
      " $ Volume   : num  1.19 1.3 1.41 1.28 1.21 ...\n",
      " $ Direction: Factor w/ 2 levels \"Down\",\"Up\": 2 2 1 2 2 2 1 2 2 2 ...\n",
      "\n",
      "Confusion matrix: \n"
     ]
    },
    {
     "data": {
      "text/plain": [
       "Confusion Matrix and Statistics\n",
       "\n",
       "          Reference\n",
       "Prediction Down Up\n",
       "      Down   77 97\n",
       "      Up     34 44\n",
       "                                         \n",
       "               Accuracy : 0.4802         \n",
       "                 95% CI : (0.417, 0.5437)\n",
       "    No Information Rate : 0.5595         \n",
       "    P-Value [Acc > NIR] : 0.9952         \n",
       "                                         \n",
       "                  Kappa : 0.0054         \n",
       "                                         \n",
       " Mcnemar's Test P-Value : 6.062e-08      \n",
       "                                         \n",
       "            Sensitivity : 0.6937         \n",
       "            Specificity : 0.3121         \n",
       "         Pos Pred Value : 0.4425         \n",
       "         Neg Pred Value : 0.5641         \n",
       "             Prevalence : 0.4405         \n",
       "         Detection Rate : 0.3056         \n",
       "   Detection Prevalence : 0.6905         \n",
       "      Balanced Accuracy : 0.5029         \n",
       "                                         \n",
       "       'Positive' Class : Down           \n",
       "                                         "
      ]
     },
     "metadata": {},
     "output_type": "display_data"
    },
    {
     "name": "stdout",
     "output_type": "stream",
     "text": [
      "\n"
     ]
    },
    {
     "data": {
      "text/html": [
       "<table>\n",
       "<tbody>\n",
       "\t<tr><th scope=row>Down vs. Up</th><td>0.5197112</td></tr>\n",
       "</tbody>\n",
       "</table>\n"
      ],
      "text/latex": [
       "\\begin{tabular}{r|l}\n",
       "\tDown vs. Up & 0.5197112\\\\\n",
       "\\end{tabular}\n"
      ],
      "text/markdown": [
       "\n",
       "| Down vs. Up | 0.5197112 |\n",
       "\n"
      ],
      "text/plain": [
       "            [,1]     \n",
       "Down vs. Up 0.5197112"
      ]
     },
     "metadata": {},
     "output_type": "display_data"
    },
    {
     "data": {
      "image/png": "[encoded data removed]",
      "text/plain": [
       "Plot with title \"ROC Curves\""
      ]
     },
     "metadata": {},
     "output_type": "display_data"
    }
   ],
   "source": [
    "cat(\"summary of the model:\",\"\\n\")\n",
    "summary(model)\n",
    "cat(\"\\n\")\n",
    "##setting up confusion matrix\n",
    "p<-predict(model,test.data,type=\"response\")##get predicted probabilities\n",
    "str(train.data)\n",
    "u_or_d<-ifelse(p>0.5,\"Up\",\"Down\")##set decision treshold to 0.5\n",
    "##convert to class to be convenient for conf matrix function later\n",
    "p_class<-factor(u_or_d,levels=levels(test.data$Direction))\n",
    "cat(\"\\n\")\n",
    "cat(\"Confusion matrix:\",\"\\n\")\n",
    "confusionMatrix(p_class,test.data$Direction)\n",
    "cat(\"\\n\")\n",
    "colAUC(p,test.data$Direction,plotROC = T)"
   ]
  },
  {
   "cell_type": "markdown",
   "metadata": {},
   "source": [
    "The output of the confusion matrix indicates that the accuracy of the model is around 48% \n",
    "which is actually worse than trying to predict the direction of the market based on the\n",
    "toss of a fair coin on average. Perhaps there is something wrong with the model assumptions.\n",
    "\n",
    "Check assumptions:"
   ]
  },
  {
   "cell_type": "code",
   "execution_count": 46,
   "metadata": {},
   "outputs": [
    {
     "data": {
      "image/png": "[encoded data removed]",
      "text/plain": [
       "plot without title"
      ]
     },
     "metadata": {},
     "output_type": "display_data"
    }
   ],
   "source": [
    "## 1) check for linear relationship between continuous variables and \n",
    "##the logit of the outcome i.e. log(p/(1-p))\n",
    "pr_train.data<-predict(model,train.data,type=\"response\")##predicted values\n",
    "cont_pred<-train.data%>%dplyr::select(-\"Direction\")##extract predictors\n",
    "cont_pred<-cont_pred%>%mutate(logit=log(pr_train.data/(1-pr_train.data)))%>%\n",
    "  gather(key = \"covariates\",value=\"covariate.value\",-logit)##add the logit to the new dataset\n",
    "##check for departures via plots\n",
    "ggplot(cont_pred,aes(logit,covariate.value))+geom_point()+\n",
    "  geom_smooth(method = \"lm\",se=F)+facet_wrap(~covariates,scales = \"free_y\")+\n",
    "    labs(title=\"Diagnostic plots:\")"
   ]
  },
  {
   "cell_type": "markdown",
   "metadata": {},
   "source": [
    "From the generated plots it is evident that only Lag1 and Lag2 have a linear relationship with the logit of the response log(p/(1-p)).\n",
    "\n",
    "Next I check for potential influential observations using cooks distance:"
   ]
  },
  {
   "cell_type": "code",
   "execution_count": 47,
   "metadata": {},
   "outputs": [
    {
     "name": "stdout",
     "output_type": "stream",
     "text": [
      "indeces of outliers: 385 387 388 381 384 382 \n"
     ]
    },
    {
     "data": {
      "image/png": "[encoded data removed]",
      "text/plain": [
       "Plot with title \"\""
      ]
     },
     "metadata": {},
     "output_type": "display_data"
    }
   ],
   "source": [
    "plot(model,which = 4,id.n = 5)##displays the five biggest extreme values\n",
    "##gets the indeces of the extreme values indicated from cooks distance\n",
    "extremes<-head(order(cooks.distance(model),decreasing = T))\n",
    "cat(\"indeces of outliers:\",extremes,\"\\n\")"
   ]
  },
  {
   "cell_type": "markdown",
   "metadata": {},
   "source": [
    "Next I will check for the variance inflation factors:"
   ]
  },
  {
   "cell_type": "code",
   "execution_count": 48,
   "metadata": {},
   "outputs": [
    {
     "data": {
      "text/html": [
       "<dl class=dl-horizontal>\n",
       "\t<dt>Lag1</dt>\n",
       "\t\t<dd>1.00339094296601</dd>\n",
       "\t<dt>Lag2</dt>\n",
       "\t\t<dd>1.00522029788763</dd>\n",
       "\t<dt>Lag3</dt>\n",
       "\t\t<dd>1.00602254030684</dd>\n",
       "\t<dt>Lag4</dt>\n",
       "\t\t<dd>1.00814477847138</dd>\n",
       "\t<dt>Lag5</dt>\n",
       "\t\t<dd>1.00247047748312</dd>\n",
       "\t<dt>Volume</dt>\n",
       "\t\t<dd>1.01969679590748</dd>\n",
       "</dl>\n"
      ],
      "text/latex": [
       "\\begin{description*}\n",
       "\\item[Lag1] 1.00339094296601\n",
       "\\item[Lag2] 1.00522029788763\n",
       "\\item[Lag3] 1.00602254030684\n",
       "\\item[Lag4] 1.00814477847138\n",
       "\\item[Lag5] 1.00247047748312\n",
       "\\item[Volume] 1.01969679590748\n",
       "\\end{description*}\n"
      ],
      "text/markdown": [
       "Lag1\n",
       ":   1.00339094296601Lag2\n",
       ":   1.00522029788763Lag3\n",
       ":   1.00602254030684Lag4\n",
       ":   1.00814477847138Lag5\n",
       ":   1.00247047748312Volume\n",
       ":   1.01969679590748\n",
       "\n"
      ],
      "text/plain": [
       "    Lag1     Lag2     Lag3     Lag4     Lag5   Volume \n",
       "1.003391 1.005220 1.006023 1.008145 1.002470 1.019697 "
      ]
     },
     "metadata": {},
     "output_type": "display_data"
    }
   ],
   "source": [
    "## 3) check for problems with multicollinearity with variance inflation factors\n",
    "car::vif(model)"
   ]
  },
  {
   "cell_type": "markdown",
   "metadata": {},
   "source": [
    "Verdict: \n",
    "I decide not to remove the outliers since those are actual events that occured and the point is to fit a model to the data and not the other way around.\n",
    "\n",
    "The variance inflation factors seem okay as all of them are around 1.\n",
    "\n",
    "However, from the diagnostic plots above there is clear violation of linearity and I shall try to fit a model to Lag1 and Lag2 only and then use the likelihood ratio test to see if removing all the other covariates except Lag1 and Lag2 will signifficantly change the maximum likelihood of the model."
   ]
  },
  {
   "cell_type": "code",
   "execution_count": 49,
   "metadata": {
    "scrolled": false
   },
   "outputs": [
    {
     "name": "stdout",
     "output_type": "stream",
     "text": [
      "Summary of the model \n"
     ]
    },
    {
     "data": {
      "text/plain": [
       "\n",
       "Call:\n",
       "glm(formula = Direction ~ Lag1 + Lag2, family = binomial(link = \"logit\"), \n",
       "    data = train.data)\n",
       "\n",
       "Deviance Residuals: \n",
       "   Min      1Q  Median      3Q     Max  \n",
       "-1.345  -1.188   1.074   1.164   1.326  \n",
       "\n",
       "Coefficients:\n",
       "            Estimate Std. Error z value Pr(>|z|)\n",
       "(Intercept)  0.03222    0.06338   0.508    0.611\n",
       "Lag1        -0.05562    0.05171  -1.076    0.282\n",
       "Lag2        -0.04449    0.05166  -0.861    0.389\n",
       "\n",
       "(Dispersion parameter for binomial family taken to be 1)\n",
       "\n",
       "    Null deviance: 1383.3  on 997  degrees of freedom\n",
       "Residual deviance: 1381.4  on 995  degrees of freedom\n",
       "AIC: 1387.4\n",
       "\n",
       "Number of Fisher Scoring iterations: 3\n"
      ]
     },
     "metadata": {},
     "output_type": "display_data"
    },
    {
     "name": "stdout",
     "output_type": "stream",
     "text": [
      "\n",
      "Likelihood ratio test: \n"
     ]
    },
    {
     "data": {
      "text/html": [
       "<table>\n",
       "<thead><tr><th scope=col>#Df</th><th scope=col>LogLik</th><th scope=col>Df</th><th scope=col>Chisq</th><th scope=col>Pr(&gt;Chisq)</th></tr></thead>\n",
       "<tbody>\n",
       "\t<tr><td>7        </td><td>-690.5526</td><td>NA       </td><td>       NA</td><td>       NA</td></tr>\n",
       "\t<tr><td>3        </td><td>-690.7010</td><td>-4       </td><td>0.2968941</td><td>0.9900138</td></tr>\n",
       "</tbody>\n",
       "</table>\n"
      ],
      "text/latex": [
       "\\begin{tabular}{r|lllll}\n",
       " \\#Df & LogLik & Df & Chisq & Pr(>Chisq)\\\\\n",
       "\\hline\n",
       "\t 7         & -690.5526 & NA        &        NA &        NA\\\\\n",
       "\t 3         & -690.7010 & -4        & 0.2968941 & 0.9900138\\\\\n",
       "\\end{tabular}\n"
      ],
      "text/markdown": [
       "\n",
       "| #Df | LogLik | Df | Chisq | Pr(>Chisq) |\n",
       "|---|---|---|---|---|\n",
       "| 7         | -690.5526 | NA        |        NA |        NA |\n",
       "| 3         | -690.7010 | -4        | 0.2968941 | 0.9900138 |\n",
       "\n"
      ],
      "text/plain": [
       "  #Df LogLik    Df Chisq     Pr(>Chisq)\n",
       "1 7   -690.5526 NA        NA        NA \n",
       "2 3   -690.7010 -4 0.2968941 0.9900138 "
      ]
     },
     "metadata": {},
     "output_type": "display_data"
    },
    {
     "name": "stdout",
     "output_type": "stream",
     "text": [
      "\n"
     ]
    },
    {
     "data": {
      "text/plain": [
       "Confusion Matrix and Statistics\n",
       "\n",
       "          Reference\n",
       "Prediction Down  Up\n",
       "      Down   35  35\n",
       "      Up     76 106\n",
       "                                          \n",
       "               Accuracy : 0.5595          \n",
       "                 95% CI : (0.4959, 0.6218)\n",
       "    No Information Rate : 0.5595          \n",
       "    P-Value [Acc > NIR] : 0.5262856       \n",
       "                                          \n",
       "                  Kappa : 0.0698          \n",
       "                                          \n",
       " Mcnemar's Test P-Value : 0.0001467       \n",
       "                                          \n",
       "            Sensitivity : 0.3153          \n",
       "            Specificity : 0.7518          \n",
       "         Pos Pred Value : 0.5000          \n",
       "         Neg Pred Value : 0.5824          \n",
       "             Prevalence : 0.4405          \n",
       "         Detection Rate : 0.1389          \n",
       "   Detection Prevalence : 0.2778          \n",
       "      Balanced Accuracy : 0.5335          \n",
       "                                          \n",
       "       'Positive' Class : Down            \n",
       "                                          "
      ]
     },
     "metadata": {},
     "output_type": "display_data"
    },
    {
     "data": {
      "text/html": [
       "<table>\n",
       "<tbody>\n",
       "\t<tr><th scope=row>Down vs. Up</th><td>0.5584308</td></tr>\n",
       "</tbody>\n",
       "</table>\n"
      ],
      "text/latex": [
       "\\begin{tabular}{r|l}\n",
       "\tDown vs. Up & 0.5584308\\\\\n",
       "\\end{tabular}\n"
      ],
      "text/markdown": [
       "\n",
       "| Down vs. Up | 0.5584308 |\n",
       "\n"
      ],
      "text/plain": [
       "            [,1]     \n",
       "Down vs. Up 0.5584308"
      ]
     },
     "metadata": {},
     "output_type": "display_data"
    },
    {
     "data": {
      "image/png": "[encoded data removed]",
      "text/plain": [
       "Plot with title \"ROC Curves\""
      ]
     },
     "metadata": {},
     "output_type": "display_data"
    }
   ],
   "source": [
    "mdl<-glm(Direction~Lag1+Lag2,family = \"binomial\"(link = \"logit\"),data = train.data)\n",
    "cat(\"Summary of the model\", \"\\n\")\n",
    "summary(mdl)\n",
    "cat(\"\\n\")\n",
    "cat(\"Likelihood ratio test:\",\"\\n\")\n",
    "lrtest(model,mdl)\n",
    "cat(\"\\n\")\n",
    "pr_test<-predict(mdl,test.data,type = \"response\")\n",
    "up_or_down<-ifelse(pr_test>0.5,\"Up\",\"Down\")\n",
    "pr_class<-factor(up_or_down,levels = levels(test.data$Direction))\n",
    "conf_mat_log<-confusionMatrix(pr_class,test.data$Direction)\n",
    "conf_mat_log\n",
    "colAUC(pr_test,test.data$Direction,plotROC = T)"
   ]
  },
  {
   "cell_type": "markdown",
   "metadata": {},
   "source": [
    "Based on the LR test comparing the full model and the restricted model with only Lag1 and Lag2 as covariates, the test failed to reject the null hypothesis that the other covariates are statistically insignificant.\n",
    "\n",
    "Furthermore, the new model (on Lag1 and Lag2) actually gives a slightly better accuracy than the full model. The accuracy of the former is 0.56 while it was 0.48 for the latter. The initial model (the full model) performed worse than trying to guess the direction of the market based on the toss of a fair coin (50% chance of getting it right)."
   ]
  },
  {
   "cell_type": "markdown",
   "metadata": {},
   "source": [
    "### Linear Discriminant Analysis:"
   ]
  },
  {
   "cell_type": "markdown",
   "metadata": {},
   "source": [
    "Fit an LDA model to predict the values of the direction of the stock market based on Lag1 and Lag2 only."
   ]
  },
  {
   "cell_type": "code",
   "execution_count": 50,
   "metadata": {
    "scrolled": false
   },
   "outputs": [
    {
     "name": "stdout",
     "output_type": "stream",
     "text": [
      "Call:\n",
      "lda(Direction ~ Lag1 + Lag2, data = train.data)\n",
      "\n",
      "Prior probabilities of groups:\n",
      "    Down       Up \n",
      "0.491984 0.508016 \n",
      "\n",
      "Group means:\n",
      "            Lag1        Lag2\n",
      "Down  0.04279022  0.03389409\n",
      "Up   -0.03954635 -0.03132544\n",
      "\n",
      "Coefficients of linear discriminants:\n",
      "            LD1\n",
      "Lag1 -0.6420190\n",
      "Lag2 -0.5135293\n",
      "\n",
      "Look at the attributes of the model object \n"
     ]
    },
    {
     "data": {
      "text/html": [
       "<strong>$names</strong> = <ol class=list-inline>\n",
       "\t<li>'class'</li>\n",
       "\t<li>'posterior'</li>\n",
       "\t<li>'x'</li>\n",
       "</ol>\n"
      ],
      "text/latex": [
       "\\textbf{\\$names} = \\begin{enumerate*}\n",
       "\\item 'class'\n",
       "\\item 'posterior'\n",
       "\\item 'x'\n",
       "\\end{enumerate*}\n"
      ],
      "text/markdown": [
       "**$names** = 1. 'class'\n",
       "2. 'posterior'\n",
       "3. 'x'\n",
       "\n",
       "\n"
      ],
      "text/plain": [
       "$names\n",
       "[1] \"class\"     \"posterior\" \"x\"        \n"
      ]
     },
     "metadata": {},
     "output_type": "display_data"
    },
    {
     "name": "stdout",
     "output_type": "stream",
     "text": [
      "\n",
      "Get the first 6 values of the posterior probabilities: \n"
     ]
    },
    {
     "data": {
      "text/html": [
       "<table>\n",
       "<thead><tr><th scope=col>Down</th><th scope=col>Up</th></tr></thead>\n",
       "<tbody>\n",
       "\t<tr><td>0.4901792</td><td>0.5098208</td></tr>\n",
       "\t<tr><td>0.4792185</td><td>0.5207815</td></tr>\n",
       "\t<tr><td>0.4668185</td><td>0.5331815</td></tr>\n",
       "\t<tr><td>0.4740011</td><td>0.5259989</td></tr>\n",
       "\t<tr><td>0.4927877</td><td>0.5072123</td></tr>\n",
       "\t<tr><td>0.4938562</td><td>0.5061438</td></tr>\n",
       "</tbody>\n",
       "</table>\n"
      ],
      "text/latex": [
       "\\begin{tabular}{r|ll}\n",
       " Down & Up\\\\\n",
       "\\hline\n",
       "\t 0.4901792 & 0.5098208\\\\\n",
       "\t 0.4792185 & 0.5207815\\\\\n",
       "\t 0.4668185 & 0.5331815\\\\\n",
       "\t 0.4740011 & 0.5259989\\\\\n",
       "\t 0.4927877 & 0.5072123\\\\\n",
       "\t 0.4938562 & 0.5061438\\\\\n",
       "\\end{tabular}\n"
      ],
      "text/markdown": [
       "\n",
       "| Down | Up |\n",
       "|---|---|\n",
       "| 0.4901792 | 0.5098208 |\n",
       "| 0.4792185 | 0.5207815 |\n",
       "| 0.4668185 | 0.5331815 |\n",
       "| 0.4740011 | 0.5259989 |\n",
       "| 0.4927877 | 0.5072123 |\n",
       "| 0.4938562 | 0.5061438 |\n",
       "\n"
      ],
      "text/plain": [
       "  Down      Up       \n",
       "1 0.4901792 0.5098208\n",
       "2 0.4792185 0.5207815\n",
       "3 0.4668185 0.5331815\n",
       "4 0.4740011 0.5259989\n",
       "5 0.4927877 0.5072123\n",
       "6 0.4938562 0.5061438"
      ]
     },
     "metadata": {},
     "output_type": "display_data"
    },
    {
     "name": "stdout",
     "output_type": "stream",
     "text": [
      "\n"
     ]
    },
    {
     "data": {
      "text/plain": [
       "Confusion Matrix and Statistics\n",
       "\n",
       "          Reference\n",
       "Prediction Down  Up\n",
       "      Down   35  35\n",
       "      Up     76 106\n",
       "                                          \n",
       "               Accuracy : 0.5595          \n",
       "                 95% CI : (0.4959, 0.6218)\n",
       "    No Information Rate : 0.5595          \n",
       "    P-Value [Acc > NIR] : 0.5262856       \n",
       "                                          \n",
       "                  Kappa : 0.0698          \n",
       "                                          \n",
       " Mcnemar's Test P-Value : 0.0001467       \n",
       "                                          \n",
       "            Sensitivity : 0.3153          \n",
       "            Specificity : 0.7518          \n",
       "         Pos Pred Value : 0.5000          \n",
       "         Neg Pred Value : 0.5824          \n",
       "             Prevalence : 0.4405          \n",
       "         Detection Rate : 0.1389          \n",
       "   Detection Prevalence : 0.2778          \n",
       "      Balanced Accuracy : 0.5335          \n",
       "                                          \n",
       "       'Positive' Class : Down            \n",
       "                                          "
      ]
     },
     "metadata": {},
     "output_type": "display_data"
    },
    {
     "name": "stdout",
     "output_type": "stream",
     "text": [
      "\n"
     ]
    },
    {
     "data": {
      "text/html": [
       "<table>\n",
       "<thead><tr><th></th><th scope=col>Down</th><th scope=col>Up</th></tr></thead>\n",
       "<tbody>\n",
       "\t<tr><th scope=row>Down vs. Up</th><td>0.5584308</td><td>0.5584308</td></tr>\n",
       "</tbody>\n",
       "</table>\n"
      ],
      "text/latex": [
       "\\begin{tabular}{r|ll}\n",
       "  & Down & Up\\\\\n",
       "\\hline\n",
       "\tDown vs. Up & 0.5584308 & 0.5584308\\\\\n",
       "\\end{tabular}\n"
      ],
      "text/markdown": [
       "\n",
       "| <!--/--> | Down | Up |\n",
       "|---|---|---|\n",
       "| Down vs. Up | 0.5584308 | 0.5584308 |\n",
       "\n"
      ],
      "text/plain": [
       "            Down      Up       \n",
       "Down vs. Up 0.5584308 0.5584308"
      ]
     },
     "metadata": {},
     "output_type": "display_data"
    },
    {
     "data": {
      "image/png": "[encoded data removed]",
      "text/plain": [
       "Plot with title \"ROC Curves\""
      ]
     },
     "metadata": {},
     "output_type": "display_data"
    }
   ],
   "source": [
    "model_lda<-lda(Direction~Lag1+Lag2,data=train.data)##assign a model\n",
    "print(model_lda)##print the call of the model\n",
    "pred_lda<-predict(model_lda,test.data)##predict on test data\n",
    "cat(\"\\n\")\n",
    "cat(\"Look at the attributes of the model object\",\"\\n\")\n",
    "attributes(pred_lda)##look at the components of the object\n",
    "cat(\"\\n\")\n",
    "cat(\"Get the first 6 values of the posterior probabilities:\",\"\\n\")\n",
    "head(pred_lda$posterior)##look at the first 6 rows in the posterior matrix\n",
    "cat(\"\\n\")\n",
    "conf_mat_lda<-confusionMatrix(pred_lda$class,test.data$Direction)##confusion matrix\n",
    "conf_mat_lda\n",
    "cat(\"\\n\")\n",
    "colAUC(pred_lda$posterior,test.data$Direction,plotROC = T)"
   ]
  },
  {
   "cell_type": "markdown",
   "metadata": {},
   "source": [
    "Based on the accuracy metric this model performed the same as the Logistic Regression model (accuracy=0.56 see confusion matrix output).\n",
    "\n",
    "Check model assumptions (in class normality of predictors and similar in class varcov matrices): "
   ]
  },
  {
   "cell_type": "code",
   "execution_count": 51,
   "metadata": {},
   "outputs": [
    {
     "name": "stdout",
     "output_type": "stream",
     "text": [
      "\n",
      "varcov matrices in the different classes: \n"
     ]
    },
    {
     "data": {
      "text/html": [
       "<table>\n",
       "<thead><tr><th></th><th scope=col>Lag1</th><th scope=col>Lag2</th></tr></thead>\n",
       "<tbody>\n",
       "\t<tr><th scope=row>Lag1</th><td> 1.51700576</td><td>-0.02787349</td></tr>\n",
       "\t<tr><th scope=row>Lag2</th><td>-0.02787349</td><td> 1.49026815</td></tr>\n",
       "</tbody>\n",
       "</table>\n"
      ],
      "text/latex": [
       "\\begin{tabular}{r|ll}\n",
       "  & Lag1 & Lag2\\\\\n",
       "\\hline\n",
       "\tLag1 &  1.51700576 & -0.02787349\\\\\n",
       "\tLag2 & -0.02787349 &  1.49026815\\\\\n",
       "\\end{tabular}\n"
      ],
      "text/markdown": [
       "\n",
       "| <!--/--> | Lag1 | Lag2 |\n",
       "|---|---|---|\n",
       "| Lag1 |  1.51700576 | -0.02787349 |\n",
       "| Lag2 | -0.02787349 |  1.49026815 |\n",
       "\n"
      ],
      "text/plain": [
       "     Lag1        Lag2       \n",
       "Lag1  1.51700576 -0.02787349\n",
       "Lag2 -0.02787349  1.49026815"
      ]
     },
     "metadata": {},
     "output_type": "display_data"
    },
    {
     "data": {
      "text/html": [
       "<table>\n",
       "<thead><tr><th></th><th scope=col>Lag1</th><th scope=col>Lag2</th></tr></thead>\n",
       "<tbody>\n",
       "\t<tr><th scope=row>Lag1</th><td> 1.50662277</td><td>-0.03924806</td></tr>\n",
       "\t<tr><th scope=row>Lag2</th><td>-0.03924806</td><td> 1.53559498</td></tr>\n",
       "</tbody>\n",
       "</table>\n"
      ],
      "text/latex": [
       "\\begin{tabular}{r|ll}\n",
       "  & Lag1 & Lag2\\\\\n",
       "\\hline\n",
       "\tLag1 &  1.50662277 & -0.03924806\\\\\n",
       "\tLag2 & -0.03924806 &  1.53559498\\\\\n",
       "\\end{tabular}\n"
      ],
      "text/markdown": [
       "\n",
       "| <!--/--> | Lag1 | Lag2 |\n",
       "|---|---|---|\n",
       "| Lag1 |  1.50662277 | -0.03924806 |\n",
       "| Lag2 | -0.03924806 |  1.53559498 |\n",
       "\n"
      ],
      "text/plain": [
       "     Lag1        Lag2       \n",
       "Lag1  1.50662277 -0.03924806\n",
       "Lag2 -0.03924806  1.53559498"
      ]
     },
     "metadata": {},
     "output_type": "display_data"
    },
    {
     "data": {
      "image/png": "[encoded data removed]",
      "text/plain": [
       "plot without title"
      ]
     },
     "metadata": {},
     "output_type": "display_data"
    }
   ],
   "source": [
    "gaus_check<-gather(train.data,key = \"lag\",value = \"percent\",c(1,2))\n",
    "ggplot(gaus_check,aes(sample=percent,col=Direction))+stat_qq()+\n",
    "  stat_qq_line()+facet_grid(rows = vars(lag),cols = vars(Direction))+\n",
    "  labs(title = \"QQ plot for Normality\")\n",
    "cat(\"\\n\")\n",
    "cat(\"varcov matrices in the different classes:\", \"\\n\")\n",
    "varcov_up<-cov(train.data%>%filter(Direction==\"Up\")%>%dplyr::select(Lag1,Lag2))\n",
    "varcov_down<-cov(train.data%>%filter(Direction==\"Down\")%>%dplyr::select(Lag1,Lag2))\n",
    "varcov_up\n",
    "varcov_down"
   ]
  },
  {
   "cell_type": "markdown",
   "metadata": {},
   "source": [
    "There are some apparent departures from the in-class normality assumption of the predictors as can be seen from the normal qq-plots above. Furthermore, the variance covariance matrices are different as well inside the different classes (\"Up\" or \"Down\")."
   ]
  },
  {
   "cell_type": "code",
   "execution_count": 52,
   "metadata": {},
   "outputs": [
    {
     "data": {
      "text/plain": [
       "Confusion Matrix and Statistics\n",
       "\n",
       "          Reference\n",
       "Prediction Down  Up\n",
       "      Down   35  35\n",
       "      Up     76 106\n",
       "                                          \n",
       "               Accuracy : 0.5595          \n",
       "                 95% CI : (0.4959, 0.6218)\n",
       "    No Information Rate : 0.5595          \n",
       "    P-Value [Acc > NIR] : 0.5262856       \n",
       "                                          \n",
       "                  Kappa : 0.0698          \n",
       "                                          \n",
       " Mcnemar's Test P-Value : 0.0001467       \n",
       "                                          \n",
       "            Sensitivity : 0.3153          \n",
       "            Specificity : 0.7518          \n",
       "         Pos Pred Value : 0.5000          \n",
       "         Neg Pred Value : 0.5824          \n",
       "             Prevalence : 0.4405          \n",
       "         Detection Rate : 0.1389          \n",
       "   Detection Prevalence : 0.2778          \n",
       "      Balanced Accuracy : 0.5335          \n",
       "                                          \n",
       "       'Positive' Class : Down            \n",
       "                                          "
      ]
     },
     "metadata": {},
     "output_type": "display_data"
    },
    {
     "data": {
      "text/plain": [
       "Confusion Matrix and Statistics\n",
       "\n",
       "          Reference\n",
       "Prediction Down  Up\n",
       "      Down   35  35\n",
       "      Up     76 106\n",
       "                                          \n",
       "               Accuracy : 0.5595          \n",
       "                 95% CI : (0.4959, 0.6218)\n",
       "    No Information Rate : 0.5595          \n",
       "    P-Value [Acc > NIR] : 0.5262856       \n",
       "                                          \n",
       "                  Kappa : 0.0698          \n",
       "                                          \n",
       " Mcnemar's Test P-Value : 0.0001467       \n",
       "                                          \n",
       "            Sensitivity : 0.3153          \n",
       "            Specificity : 0.7518          \n",
       "         Pos Pred Value : 0.5000          \n",
       "         Neg Pred Value : 0.5824          \n",
       "             Prevalence : 0.4405          \n",
       "         Detection Rate : 0.1389          \n",
       "   Detection Prevalence : 0.2778          \n",
       "      Balanced Accuracy : 0.5335          \n",
       "                                          \n",
       "       'Positive' Class : Down            \n",
       "                                          "
      ]
     },
     "metadata": {},
     "output_type": "display_data"
    }
   ],
   "source": [
    "conf_mat_lda##confusion matrix for the lda model\n",
    "conf_mat_log##confussion matrix for the logit model with Lag1 and Lag2"
   ]
  },
  {
   "cell_type": "markdown",
   "metadata": {},
   "source": [
    "Summary:\n",
    "It seems that both models performed similarly when only lag1 and lag2 were the predictors. Both achieved accuracy of 56% which is slightly better than the alternative of tossing a coin (50% chance of guessing the direction).\n",
    "When checking for departures from assumptions, it seems that there is a violation of the normality assumption for the predictors in the different classes for the lda model. The covariance matrices were also different for the different classes so perhaps the lda was not the most appropriate model for this job. The logistic regression model, on the other hand, does not need the assumption of normality of the predictors in the different classes and in this case actually seems to be more appropriate to be used. The coefficients for the logistic regression are estimated by maximum likelihood so they are more robust to non-normality in the covariates in the diferent classes. If I had to choose one or the other in this case I would choose the logistic regression model since there were no clear departures from assumptions when it came to regressing direction on just Lag1 and Lag2.\n",
    "The lda is typically more likely to perform better than the logit model if there were more groups for classification, that is, if the assumptions for the model are met, nevertheless."
   ]
  },
  {
   "cell_type": "markdown",
   "metadata": {},
   "source": [
    "## Classifiacation Tree vs Random Forest Classifier:"
   ]
  },
  {
   "cell_type": "markdown",
   "metadata": {},
   "source": [
    "Initial exploration of the Carseats dataset:"
   ]
  },
  {
   "cell_type": "code",
   "execution_count": 53,
   "metadata": {},
   "outputs": [
    {
     "name": "stdout",
     "output_type": "stream",
     "text": [
      "Summary of the Carseats dataset: \n"
     ]
    },
    {
     "data": {
      "text/plain": [
       "     Sales          CompPrice       Income        Advertising    \n",
       " Min.   : 0.000   Min.   : 77   Min.   : 21.00   Min.   : 0.000  \n",
       " 1st Qu.: 5.390   1st Qu.:115   1st Qu.: 42.75   1st Qu.: 0.000  \n",
       " Median : 7.490   Median :125   Median : 69.00   Median : 5.000  \n",
       " Mean   : 7.496   Mean   :125   Mean   : 68.66   Mean   : 6.635  \n",
       " 3rd Qu.: 9.320   3rd Qu.:135   3rd Qu.: 91.00   3rd Qu.:12.000  \n",
       " Max.   :16.270   Max.   :175   Max.   :120.00   Max.   :29.000  \n",
       "   Population        Price        ShelveLoc        Age          Education   \n",
       " Min.   : 10.0   Min.   : 24.0   Bad   : 96   Min.   :25.00   Min.   :10.0  \n",
       " 1st Qu.:139.0   1st Qu.:100.0   Good  : 85   1st Qu.:39.75   1st Qu.:12.0  \n",
       " Median :272.0   Median :117.0   Medium:219   Median :54.50   Median :14.0  \n",
       " Mean   :264.8   Mean   :115.8                Mean   :53.32   Mean   :13.9  \n",
       " 3rd Qu.:398.5   3rd Qu.:131.0                3rd Qu.:66.00   3rd Qu.:16.0  \n",
       " Max.   :509.0   Max.   :191.0                Max.   :80.00   Max.   :18.0  \n",
       " Urban       US     \n",
       " No :118   No :142  \n",
       " Yes:282   Yes:258  \n",
       "                    \n",
       "                    \n",
       "                    \n",
       "                    "
      ]
     },
     "metadata": {},
     "output_type": "display_data"
    },
    {
     "name": "stdout",
     "output_type": "stream",
     "text": [
      "\n",
      "\n",
      "Look at the structure of the dataset \n",
      "\n",
      "Classes 'tbl_df', 'tbl' and 'data.frame':\t400 obs. of  12 variables:\n",
      " $ Sales      : num  9.5 11.22 10.06 7.4 4.15 ...\n",
      " $ CompPrice  : num  138 111 113 117 141 124 115 136 132 132 ...\n",
      " $ Income     : num  73 48 35 100 64 113 105 81 110 113 ...\n",
      " $ Advertising: num  11 16 10 4 3 13 0 15 0 0 ...\n",
      " $ Population : num  276 260 269 466 340 501 45 425 108 131 ...\n",
      " $ Price      : num  120 83 80 97 128 72 108 120 124 124 ...\n",
      " $ ShelveLoc  : Factor w/ 3 levels \"Bad\",\"Good\",\"Medium\": 1 2 3 3 1 1 3 2 3 3 ...\n",
      " $ Age        : num  42 65 59 55 38 78 71 67 76 76 ...\n",
      " $ Education  : num  17 10 12 14 13 16 15 10 10 17 ...\n",
      " $ Urban      : Factor w/ 2 levels \"No\",\"Yes\": 2 2 2 2 2 1 2 2 1 1 ...\n",
      " $ US         : Factor w/ 2 levels \"No\",\"Yes\": 2 2 2 2 1 2 1 2 1 2 ...\n",
      " $ High       : chr  \"Yes\" \"Yes\" \"Yes\" \"No\" ...\n"
     ]
    }
   ],
   "source": [
    "cat(\"Summary of the Carseats dataset:\",\"\\n\")\n",
    "summary(Carseats)\n",
    "##Creating and adding the \"High\" variable to the dataset\n",
    "Carseats_new<-Carseats%>%mutate(High=ifelse(Sales<=8,\"No\",\"Yes\"))\n",
    "Carseats_new<-as.tbl(Carseats_new)\n",
    "cat(\"\\n\")\n",
    "cat(\"\\n\")\n",
    "cat(\"Look at the structure of the dataset\",\"\\n\")\n",
    "cat(\"\\n\")\n",
    "str(Carseats_new)\n",
    "##converting the \"High\" variable to a factor with levels \"Yes\" or \"No\"\n",
    "Carseats_new$High<-factor(Carseats_new$High,levels = c(\"Yes\",\"No\"))"
   ]
  },
  {
   "cell_type": "markdown",
   "metadata": {},
   "source": [
    "### Classification Tree"
   ]
  },
  {
   "cell_type": "markdown",
   "metadata": {},
   "source": [
    "Building classification tree model on the entire dataset without parameter tuning"
   ]
  },
  {
   "cell_type": "code",
   "execution_count": 54,
   "metadata": {},
   "outputs": [
    {
     "data": {
      "text/plain": [
       "Confusion Matrix and Statistics\n",
       "\n",
       "          Reference\n",
       "Prediction Yes  No\n",
       "       Yes 151  23\n",
       "       No   13 213\n",
       "                                          \n",
       "               Accuracy : 0.91            \n",
       "                 95% CI : (0.8776, 0.9362)\n",
       "    No Information Rate : 0.59            \n",
       "    P-Value [Acc > NIR] : <2e-16          \n",
       "                                          \n",
       "                  Kappa : 0.8157          \n",
       "                                          \n",
       " Mcnemar's Test P-Value : 0.1336          \n",
       "                                          \n",
       "            Sensitivity : 0.9207          \n",
       "            Specificity : 0.9025          \n",
       "         Pos Pred Value : 0.8678          \n",
       "         Neg Pred Value : 0.9425          \n",
       "             Prevalence : 0.4100          \n",
       "         Detection Rate : 0.3775          \n",
       "   Detection Prevalence : 0.4350          \n",
       "      Balanced Accuracy : 0.9116          \n",
       "                                          \n",
       "       'Positive' Class : Yes             \n",
       "                                          "
      ]
     },
     "metadata": {},
     "output_type": "display_data"
    },
    {
     "name": "stdout",
     "output_type": "stream",
     "text": [
      "\n",
      "Summary of the model: \n",
      "\n"
     ]
    },
    {
     "data": {
      "text/plain": [
       "\n",
       "Classification tree:\n",
       "tree(formula = High ~ . - Sales, data = Carseats_new)\n",
       "Variables actually used in tree construction:\n",
       "[1] \"ShelveLoc\"   \"Price\"       \"US\"          \"Income\"      \"CompPrice\"  \n",
       "[6] \"Population\"  \"Advertising\" \"Age\"        \n",
       "Number of terminal nodes:  27 \n",
       "Residual mean deviance:  0.4575 = 170.7 / 373 \n",
       "Misclassification error rate: 0.09 = 36 / 400 "
      ]
     },
     "metadata": {},
     "output_type": "display_data"
    }
   ],
   "source": [
    "##model on full dataset with no parameter tuning\n",
    "model_tree<-tree(High~.-Sales,data = Carseats_new)\n",
    "confusionMatrix(predict(model_tree,Carseats_new,type = \"class\"),Carseats_new$High)\n",
    "## terminal nodes are 27, error rate is 0.09, see in output from summary\n",
    "cat(\"\\n\")\n",
    "cat(\"Summary of the model:\",\"\\n\")\n",
    "cat(\"\\n\")\n",
    "summary(model_tree)"
   ]
  },
  {
   "cell_type": "markdown",
   "metadata": {},
   "source": [
    "Now build an optimised model:"
   ]
  },
  {
   "cell_type": "code",
   "execution_count": 55,
   "metadata": {},
   "outputs": [],
   "source": [
    "##split data into training and test data\n",
    "##set seed for pseudo random sampling\n",
    "set.seed(111)\n",
    "train_indeces<-sample(nrow(Carseats_new),round(nrow(Carseats_new)*0.8))\n",
    "train_carseats<-Carseats_new[train_indeces,-1]\n",
    "test_carseats<-Carseats_new[-train_indeces,-1]"
   ]
  },
  {
   "cell_type": "code",
   "execution_count": 56,
   "metadata": {},
   "outputs": [],
   "source": [
    "##Build an optimal model through cross-validation and caret package\n",
    "##Create train control argument to pass into train(), set to 10-fold cv\n",
    "##with 4 repeats and set the criteria to be the AUC (area under the ROC curve) metric\n",
    "mycontrol<-trainControl(method = \"repeatedcv\",number = 10,repeats = 4,\n",
    "                        summaryFunction = twoClassSummary, \n",
    "                        classProbs = T)\n",
    "##Create tune grid for maxdepth of the tree \n",
    "tuning<-expand.grid(maxdepth = 2:14)\n",
    "##pass on the created 2 arguments to the train() function from {caret}\n",
    "##set seed so that we get similar samples from cross validation\n",
    "set.seed(12)\n",
    "new_tree<-train(High~.,data = train_carseats,method=\"rpart2\",tuneGrid=tuning,\n",
    "                trControl=mycontrol,metric=\"ROC\")"
   ]
  },
  {
   "cell_type": "markdown",
   "metadata": {},
   "source": [
    "Get model characteristic and run some plots:"
   ]
  },
  {
   "cell_type": "code",
   "execution_count": 57,
   "metadata": {
    "scrolled": false
   },
   "outputs": [
    {
     "name": "stdout",
     "output_type": "stream",
     "text": [
      "Get the best tune of maxdepth parameter: \n"
     ]
    },
    {
     "data": {
      "text/html": [
       "<table>\n",
       "<thead><tr><th></th><th scope=col>maxdepth</th></tr></thead>\n",
       "<tbody>\n",
       "\t<tr><th scope=row>8</th><td>9</td></tr>\n",
       "</tbody>\n",
       "</table>\n"
      ],
      "text/latex": [
       "\\begin{tabular}{r|l}\n",
       "  & maxdepth\\\\\n",
       "\\hline\n",
       "\t8 & 9\\\\\n",
       "\\end{tabular}\n"
      ],
      "text/markdown": [
       "\n",
       "| <!--/--> | maxdepth |\n",
       "|---|---|\n",
       "| 8 | 9 |\n",
       "\n"
      ],
      "text/plain": [
       "  maxdepth\n",
       "8 9       "
      ]
     },
     "metadata": {},
     "output_type": "display_data"
    },
    {
     "name": "stdout",
     "output_type": "stream",
     "text": [
      "\n",
      "Call the best model: \n"
     ]
    },
    {
     "data": {
      "text/plain": [
       "n= 320 \n",
       "\n",
       "node), split, n, loss, yval, (yprob)\n",
       "      * denotes terminal node\n",
       "\n",
       "  1) root 320 126 No (0.39375000 0.60625000)  \n",
       "    2) ShelveLocGood>=0.5 65  15 Yes (0.76923077 0.23076923)  \n",
       "      4) Price< 142.5 56   8 Yes (0.85714286 0.14285714) *\n",
       "      5) Price>=142.5 9   2 No (0.22222222 0.77777778) *\n",
       "    3) ShelveLocGood< 0.5 255  76 No (0.29803922 0.70196078)  \n",
       "      6) Price< 88 24   4 Yes (0.83333333 0.16666667) *\n",
       "      7) Price>=88 231  56 No (0.24242424 0.75757576)  \n",
       "       14) Advertising>=13.5 40  17 Yes (0.57500000 0.42500000)  \n",
       "         28) Income>=99.5 10   0 Yes (1.00000000 0.00000000) *\n",
       "         29) Income< 99.5 30  13 No (0.43333333 0.56666667)  \n",
       "           58) CompPrice>=131.5 10   1 Yes (0.90000000 0.10000000) *\n",
       "           59) CompPrice< 131.5 20   4 No (0.20000000 0.80000000) *\n",
       "       15) Advertising< 13.5 191  33 No (0.17277487 0.82722513)  \n",
       "         30) CompPrice>=124.5 107  28 No (0.26168224 0.73831776)  \n",
       "           60) Price< 109.5 18   6 Yes (0.66666667 0.33333333) *\n",
       "           61) Price>=109.5 89  16 No (0.17977528 0.82022472)  \n",
       "            122) ShelveLocMedium>=0.5 63  16 No (0.25396825 0.74603175)  \n",
       "              244) Price< 144.5 47  16 No (0.34042553 0.65957447)  \n",
       "                488) CompPrice>=147.5 8   1 Yes (0.87500000 0.12500000) *\n",
       "                489) CompPrice< 147.5 39   9 No (0.23076923 0.76923077) *\n",
       "              245) Price>=144.5 16   0 No (0.00000000 1.00000000) *\n",
       "            123) ShelveLocMedium< 0.5 26   0 No (0.00000000 1.00000000) *\n",
       "         31) CompPrice< 124.5 84   5 No (0.05952381 0.94047619) *"
      ]
     },
     "metadata": {},
     "output_type": "display_data"
    },
    {
     "data": {
      "image/png": "[encoded data removed]",
      "text/plain": [
       "plot without title"
      ]
     },
     "metadata": {},
     "output_type": "display_data"
    },
    {
     "data": {
      "image/png": "[encoded data removed]",
      "text/plain": [
       "plot without title"
      ]
     },
     "metadata": {},
     "output_type": "display_data"
    }
   ],
   "source": [
    "cat(\"Get the best tune of maxdepth parameter:\",\"\\n\")\n",
    "new_tree$bestTune\n",
    "cat(\"\\n\")\n",
    "cat(\"Call the best model:\",\"\\n\")\n",
    "new_tree$finalModel\n",
    "##plot to see visually where the optimal maxdepth is for max AUC \n",
    "plot(new_tree,main=\"AUC vs max tree depth\")\n",
    "##plot the classification tree\n",
    "par(xpd=T)\n",
    "plot(new_tree$finalModel)\n",
    "text(new_tree$finalModel,digits = 1)"
   ]
  },
  {
   "cell_type": "code",
   "execution_count": 58,
   "metadata": {
    "scrolled": false
   },
   "outputs": [
    {
     "name": "stdout",
     "output_type": "stream",
     "text": [
      "Number of terminal nodes from the final model: \n"
     ]
    },
    {
     "data": {
      "text/html": [
       "12"
      ],
      "text/latex": [
       "12"
      ],
      "text/markdown": [
       "12"
      ],
      "text/plain": [
       "[1] 12"
      ]
     },
     "metadata": {},
     "output_type": "display_data"
    },
    {
     "name": "stdout",
     "output_type": "stream",
     "text": [
      "\n"
     ]
    },
    {
     "data": {
      "text/plain": [
       "Confusion Matrix and Statistics\n",
       "\n",
       "          Reference\n",
       "Prediction Yes No\n",
       "       Yes  26  9\n",
       "       No   12 33\n",
       "                                          \n",
       "               Accuracy : 0.7375          \n",
       "                 95% CI : (0.6271, 0.8296)\n",
       "    No Information Rate : 0.525           \n",
       "    P-Value [Acc > NIR] : 8.076e-05       \n",
       "                                          \n",
       "                  Kappa : 0.4717          \n",
       "                                          \n",
       " Mcnemar's Test P-Value : 0.6625          \n",
       "                                          \n",
       "            Sensitivity : 0.6842          \n",
       "            Specificity : 0.7857          \n",
       "         Pos Pred Value : 0.7429          \n",
       "         Neg Pred Value : 0.7333          \n",
       "             Prevalence : 0.4750          \n",
       "         Detection Rate : 0.3250          \n",
       "   Detection Prevalence : 0.4375          \n",
       "      Balanced Accuracy : 0.7350          \n",
       "                                          \n",
       "       'Positive' Class : Yes             \n",
       "                                          "
      ]
     },
     "metadata": {},
     "output_type": "display_data"
    },
    {
     "name": "stdout",
     "output_type": "stream",
     "text": [
      "Error from final model: \n"
     ]
    },
    {
     "data": {
      "text/html": [
       "0.2625"
      ],
      "text/latex": [
       "0.2625"
      ],
      "text/markdown": [
       "0.2625"
      ],
      "text/plain": [
       "[1] 0.2625"
      ]
     },
     "metadata": {},
     "output_type": "display_data"
    },
    {
     "name": "stdout",
     "output_type": "stream",
     "text": [
      "\n",
      "Important variables: \n"
     ]
    },
    {
     "data": {
      "text/plain": [
       "rpart2 variable importance\n",
       "\n",
       "                Overall\n",
       "Price           100.000\n",
       "ShelveLocGood    73.483\n",
       "CompPrice        50.767\n",
       "Advertising      34.191\n",
       "Income           15.389\n",
       "ShelveLocMedium   7.585\n",
       "USYes             0.000\n",
       "Population        0.000\n",
       "Age               0.000\n",
       "Education         0.000\n",
       "UrbanYes          0.000"
      ]
     },
     "metadata": {},
     "output_type": "display_data"
    },
    {
     "data": {
      "text/html": [
       "<table>\n",
       "<thead><tr><th></th><th scope=col>Yes</th><th scope=col>No</th></tr></thead>\n",
       "<tbody>\n",
       "\t<tr><th scope=row>Yes vs. No</th><td>0.7603383</td><td>0.7603383</td></tr>\n",
       "</tbody>\n",
       "</table>\n"
      ],
      "text/latex": [
       "\\begin{tabular}{r|ll}\n",
       "  & Yes & No\\\\\n",
       "\\hline\n",
       "\tYes vs. No & 0.7603383 & 0.7603383\\\\\n",
       "\\end{tabular}\n"
      ],
      "text/markdown": [
       "\n",
       "| <!--/--> | Yes | No |\n",
       "|---|---|---|\n",
       "| Yes vs. No | 0.7603383 | 0.7603383 |\n",
       "\n"
      ],
      "text/plain": [
       "           Yes       No       \n",
       "Yes vs. No 0.7603383 0.7603383"
      ]
     },
     "metadata": {},
     "output_type": "display_data"
    },
    {
     "data": {
      "image/png": "[encoded data removed]",
      "text/plain": [
       "Plot with title \"ROC Curves\""
      ]
     },
     "metadata": {},
     "output_type": "display_data"
    }
   ],
   "source": [
    "##get the number of terminal nodes from the final model, they are 12\n",
    "cat(\"Number of terminal nodes from the final model:\",\"\\n\")\n",
    "sum(new_tree$finalModel$frame$var==\"<leaf>\")\n",
    "cat(\"\\n\")\n",
    "##get \"raw\" predictions and use them for the confusionmatrix\n",
    "pred_tree<-predict(new_tree,test_carseats,type = \"raw\")\n",
    "##confusion matrix\n",
    "confusionMatrix(pred_tree,test_carseats$High)\n",
    "##get the error rate from the final model,\n",
    "##calculate as 1-accuracy from the confusion matrix\n",
    "cat(\"Error from final model:\", \"\\n\")\n",
    "1-confusionMatrix(pred_tree,test_carseats$High)$overall[[1]]\n",
    "##get the important variables\n",
    "cat(\"\\n\")\n",
    "cat(\"Important variables:\",\"\\n\")\n",
    "varImp(new_tree,compete=F,surrogates=F)\n",
    "##get probability predictions for the ROC plot\n",
    "pred_tree_prob<-predict(new_tree,test_carseats,type = \"prob\")\n",
    "par(xpd=F)\n",
    "##plot the ROC curve\n",
    "colAUC(pred_tree_prob,test_carseats$High,plotROC = T)"
   ]
  },
  {
   "cell_type": "markdown",
   "metadata": {},
   "source": [
    "### Random Forest"
   ]
  },
  {
   "cell_type": "code",
   "execution_count": 59,
   "metadata": {},
   "outputs": [
    {
     "name": "stderr",
     "output_type": "stream",
     "text": [
      "Warning message in train.default(x, y, weights = w, ...):\n",
      "\"The metric \"Accuracy\" was not in the result set. ROC will be used instead.\""
     ]
    }
   ],
   "source": [
    "##make custom train control according to area under the ROC curve\n",
    "rf_control<-trainControl(method = \"cv\",number = 10,\n",
    "                         summaryFunction = twoClassSummary,\n",
    "                         classProbs = T)\n",
    "##create custom tune grid for the mtry parameter\n",
    "mytune<-data.frame(.mtry=3:8,.splitrule=\"gini\",.min.node.size=5)\n",
    "##set seed for pseudo random sampling\n",
    "set.seed(111)\n",
    "##I used the ranger method here since it is faster than the rf\n",
    "model_rf<-train(High~.,data = train_carseats,method=\"ranger\",\n",
    "                tuneGrid=mytune,trControl=rf_control,importance=\"impurity\")"
   ]
  },
  {
   "cell_type": "markdown",
   "metadata": {},
   "source": [
    "I used the \"ranger\" method since it is faster than the \"rf\" method. \n",
    "Get some metrics of the model:"
   ]
  },
  {
   "cell_type": "code",
   "execution_count": 60,
   "metadata": {
    "scrolled": false
   },
   "outputs": [
    {
     "name": "stdout",
     "output_type": "stream",
     "text": [
      "Get the best tune of the model: \n"
     ]
    },
    {
     "data": {
      "text/html": [
       "<table>\n",
       "<thead><tr><th></th><th scope=col>mtry</th><th scope=col>splitrule</th><th scope=col>min.node.size</th></tr></thead>\n",
       "<tbody>\n",
       "\t<tr><th scope=row>3</th><td>5   </td><td>gini</td><td>5   </td></tr>\n",
       "</tbody>\n",
       "</table>\n"
      ],
      "text/latex": [
       "\\begin{tabular}{r|lll}\n",
       "  & mtry & splitrule & min.node.size\\\\\n",
       "\\hline\n",
       "\t3 & 5    & gini & 5   \\\\\n",
       "\\end{tabular}\n"
      ],
      "text/markdown": [
       "\n",
       "| <!--/--> | mtry | splitrule | min.node.size |\n",
       "|---|---|---|---|\n",
       "| 3 | 5    | gini | 5    |\n",
       "\n"
      ],
      "text/plain": [
       "  mtry splitrule min.node.size\n",
       "3 5    gini      5            "
      ]
     },
     "metadata": {},
     "output_type": "display_data"
    },
    {
     "name": "stdout",
     "output_type": "stream",
     "text": [
      "\n",
      "Call final model: \n"
     ]
    },
    {
     "data": {
      "text/plain": [
       "Ranger result\n",
       "\n",
       "Call:\n",
       " ranger::ranger(dependent.variable.name = \".outcome\", data = x,      mtry = min(param$mtry, ncol(x)), min.node.size = param$min.node.size,      splitrule = as.character(param$splitrule), write.forest = TRUE,      probability = classProbs, ...) \n",
       "\n",
       "Type:                             Probability estimation \n",
       "Number of trees:                  500 \n",
       "Sample size:                      320 \n",
       "Number of independent variables:  11 \n",
       "Mtry:                             5 \n",
       "Target node size:                 5 \n",
       "Variable importance mode:         impurity \n",
       "Splitrule:                        gini \n",
       "OOB prediction error (Brier s.):  0.1357428 "
      ]
     },
     "metadata": {},
     "output_type": "display_data"
    },
    {
     "name": "stdout",
     "output_type": "stream",
     "text": [
      "\n",
      " OOB Prediction error: \n"
     ]
    },
    {
     "data": {
      "text/html": [
       "0.135742756979777"
      ],
      "text/latex": [
       "0.135742756979777"
      ],
      "text/markdown": [
       "0.135742756979777"
      ],
      "text/plain": [
       "[1] 0.1357428"
      ]
     },
     "metadata": {},
     "output_type": "display_data"
    },
    {
     "name": "stdout",
     "output_type": "stream",
     "text": [
      "\n",
      "\n",
      "Variable importance: \n"
     ]
    },
    {
     "data": {
      "text/plain": [
       "ranger variable importance\n",
       "\n",
       "                Overall\n",
       "Price           100.000\n",
       "ShelveLocGood    50.263\n",
       "Advertising      46.051\n",
       "CompPrice        41.002\n",
       "Age              34.316\n",
       "Income           31.902\n",
       "Population       25.162\n",
       "Education        12.098\n",
       "ShelveLocMedium   7.831\n",
       "USYes             3.150\n",
       "UrbanYes          0.000"
      ]
     },
     "metadata": {},
     "output_type": "display_data"
    },
    {
     "name": "stdout",
     "output_type": "stream",
     "text": [
      "\n"
     ]
    },
    {
     "data": {
      "text/plain": [
       "Confusion Matrix and Statistics\n",
       "\n",
       "          Reference\n",
       "Prediction Yes No\n",
       "       Yes  24  4\n",
       "       No   14 38\n",
       "                                          \n",
       "               Accuracy : 0.775           \n",
       "                 95% CI : (0.6679, 0.8609)\n",
       "    No Information Rate : 0.525           \n",
       "    P-Value [Acc > NIR] : 3.466e-06       \n",
       "                                          \n",
       "                  Kappa : 0.5431          \n",
       "                                          \n",
       " Mcnemar's Test P-Value : 0.03389         \n",
       "                                          \n",
       "            Sensitivity : 0.6316          \n",
       "            Specificity : 0.9048          \n",
       "         Pos Pred Value : 0.8571          \n",
       "         Neg Pred Value : 0.7308          \n",
       "             Prevalence : 0.4750          \n",
       "         Detection Rate : 0.3000          \n",
       "   Detection Prevalence : 0.3500          \n",
       "      Balanced Accuracy : 0.7682          \n",
       "                                          \n",
       "       'Positive' Class : Yes             \n",
       "                                          "
      ]
     },
     "metadata": {},
     "output_type": "display_data"
    },
    {
     "name": "stdout",
     "output_type": "stream",
     "text": [
      "\n"
     ]
    },
    {
     "data": {
      "image/png": "[encoded data removed]",
      "text/plain": [
       "plot without title"
      ]
     },
     "metadata": {},
     "output_type": "display_data"
    },
    {
     "data": {
      "text/html": [
       "<table>\n",
       "<thead><tr><th></th><th scope=col>Yes</th><th scope=col>No</th></tr></thead>\n",
       "<tbody>\n",
       "\t<tr><th scope=row>Yes vs. No</th><td>0.8953634</td><td>0.8953634</td></tr>\n",
       "</tbody>\n",
       "</table>\n"
      ],
      "text/latex": [
       "\\begin{tabular}{r|ll}\n",
       "  & Yes & No\\\\\n",
       "\\hline\n",
       "\tYes vs. No & 0.8953634 & 0.8953634\\\\\n",
       "\\end{tabular}\n"
      ],
      "text/markdown": [
       "\n",
       "| <!--/--> | Yes | No |\n",
       "|---|---|---|\n",
       "| Yes vs. No | 0.8953634 | 0.8953634 |\n",
       "\n"
      ],
      "text/plain": [
       "           Yes       No       \n",
       "Yes vs. No 0.8953634 0.8953634"
      ]
     },
     "metadata": {},
     "output_type": "display_data"
    },
    {
     "data": {
      "image/png": "[encoded data removed]",
      "text/plain": [
       "Plot with title \"ROC Curves\""
      ]
     },
     "metadata": {},
     "output_type": "display_data"
    }
   ],
   "source": [
    "cat(\"Get the best tune of the model:\",\"\\n\")\n",
    "model_rf$bestTune##call best tune\n",
    "cat(\"\\n\")\n",
    "cat(\"Call final model:\",\"\\n\")\n",
    "model_rf$finalModel##call final model\n",
    "##get the OOB prediction error\n",
    "cat(\"\\n\")\n",
    "cat(\" OOB Prediction error:\",\"\\n\")\n",
    "model_rf$finalModel$prediction.error\n",
    "##get a visual representation of the \n",
    "cat(\"\\n\")\n",
    "plot(model_rf)\n",
    "##show the important variables\n",
    "cat(\"\\n\")\n",
    "cat(\"Variable importance:\",\"\\n\")\n",
    "varImp(model_rf)\n",
    "cat(\"\\n\")\n",
    "##get the prediction as labels for the confusion matrix\n",
    "pred_rf<-predict(model_rf,test_carseats,type = \"raw\")\n",
    "##calculate the confusion matrix\n",
    "confusionMatrix(pred_rf,test_carseats$High)\n",
    "##get the predictions in probability form for the ROC plot\n",
    "pred_rf_prob<-predict(model_rf,test_carseats,type = \"prob\")\n",
    "cat(\"\\n\")\n",
    "##plot the ROC curve\n",
    "colAUC(pred_rf_prob,test_carseats$High,plotROC = T)"
   ]
  },
  {
   "cell_type": "markdown",
   "metadata": {},
   "source": [
    "Summary:\n",
    "\n",
    "The out of bag prediction error rate of the Random Forest model is two times lower than that of the classification tree (0.13 and 0.26 respectively). The accuracy of the Random Forest model is also higher than that of the classification tree. The validity of the previous statement is evident both from the ROC plots and the outputs from the confusion matrices. The accuracy of the Random Forest model is 0.775 while the accuracy of the classification tree is 0.7375. Both models, however, returned similar outputs for the variable importance, price and shelve local good taking the first places.\n",
    "\n",
    "The advantage of the classification tree is the ease of interpretation of the model. The disadvantage is that in general single trees tend to overfit and are not as good when evaluating their performance on the test set.\n",
    "\n",
    "The advantage of the Random Forest method is the low out of bag error rate and the higher accuracy in comparison to the classification tree. The disadvantage of the model is that the model is more difficult to interpret. And of course if the actual decision boundary is linear then both models (CART and RF) will perform worse than some classifier with linear decision boundary e.g. logit. Furthermore, if the RF has very few relevant variables and many noise variables and the number of variables selected at each split m is small, then the RF will perform poorly, since there will be a smaller probability of a relevant variable to be chosen among the m variables for the split."
   ]
  }
 ],
 "metadata": {
  "kernelspec": {
   "display_name": "R",
   "language": "R",
   "name": "ir"
  },
  "language_info": {
   "codemirror_mode": "r",
   "file_extension": ".r",
   "mimetype": "text/x-r-source",
   "name": "R",
   "pygments_lexer": "r",
   "version": "3.6.1"
  }
 },
 "nbformat": 4,
 "nbformat_minor": 2
}
